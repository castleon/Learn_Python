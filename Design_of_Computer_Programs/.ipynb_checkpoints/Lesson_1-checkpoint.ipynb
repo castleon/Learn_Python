{
 "cells": [
  {
   "cell_type": "code",
   "execution_count": 2,
   "metadata": {},
   "outputs": [
    {
     "name": "stdout",
     "output_type": "stream",
     "text": [
      "[14, 13, 4, 3]\n"
     ]
    }
   ],
   "source": [
    "# -----------\n",
    "# User Instructions\n",
    "# \n",
    "# Modify the card_ranks() function so that cards with\n",
    "# rank of ten, jack, queen, king, or ace (T, J, Q, K, A)\n",
    "# are handled correctly. Do this by mapping 'T' to 10, \n",
    "# 'J' to 11, etc...\n",
    "\n",
    "\n",
    "# My solution\n",
    "def card_ranks(cards):\n",
    "    \"Return a list of the ranks, sorted with higher first.\"\n",
    "    ranks = [r for r,s in cards]\n",
    "    r = {'T': 10, 'J': 11, 'Q': 12, 'A': 14, 'K': 13}\n",
    "    for n in range(0, len(ranks)):\n",
    "        if ranks[n] in r.keys():\n",
    "            ranks[n] = r[ranks[n]]\n",
    "        else:\n",
    "            ranks[n] = int(ranks[n])\n",
    "    ranks.sort(reverse=True)\n",
    "    return ranks\n",
    "\n",
    "print(card_ranks(['AC', '3D', '4S', 'KH'])) #should output [14, 13, 4, 3]"
   ]
  },
  {
   "cell_type": "code",
   "execution_count": 4,
   "metadata": {},
   "outputs": [
    {
     "name": "stdout",
     "output_type": "stream",
     "text": [
      "[14, 13, 4, 3]\n"
     ]
    }
   ],
   "source": [
    "# Better solution\n",
    "\n",
    "def card_ranks(cards):\n",
    "    ranks = ['--23456789TJQKA'.index(r) for r,s in cards]\n",
    "    ranks.sort(reverse=True)\n",
    "    return ranks\n",
    "\n",
    "print(card_ranks(['AC', '3D', '4S', 'KH']))"
   ]
  },
  {
   "cell_type": "code",
   "execution_count": 6,
   "metadata": {},
   "outputs": [
    {
     "name": "stdout",
     "output_type": "stream",
     "text": [
      "tests pass\n"
     ]
    }
   ],
   "source": [
    "# -----------\n",
    "# User Instructions\n",
    "# \n",
    "# Define two functions, straight(ranks) and flush(hand).\n",
    "# Keep in mind that ranks will be ordered from largest\n",
    "# to smallest.\n",
    "\n",
    "\n",
    "# My solution\n",
    "def straight(ranks):\n",
    "    \"Return True if the ordered ranks form a 5-card straight.\"\n",
    "    if ranks[0] - ranks[4] == 4 and len(set(ranks)) == 5:\n",
    "        return True\n",
    "    return False\n",
    "\n",
    "def flush(hand):\n",
    "    \"Return True if all the cards have the same suit.\"\n",
    "    suits = []\n",
    "    for r, s in hand:\n",
    "        suits.append(s)\n",
    "    if len(set(suits)) == 1:\n",
    "        return True\n",
    "    return False\n",
    "    \n",
    "def test():\n",
    "    \"Test cases for the functions in poker program.\"\n",
    "    sf = \"6C 7C 8C 9C TC\".split()\n",
    "    fk = \"9D 9H 9S 9C 7D\".split()\n",
    "    fh = \"TD TC TH 7C 7D\".split()\n",
    "    assert straight([9, 8, 7, 6, 5]) == True\n",
    "    assert straight([9, 8, 8, 6, 5]) == False\n",
    "    assert flush(sf) == True\n",
    "    assert flush(fk) == False\n",
    "    return 'tests pass'\n",
    "\n",
    "print(test())"
   ]
  },
  {
   "cell_type": "code",
   "execution_count": 9,
   "metadata": {},
   "outputs": [
    {
     "name": "stdout",
     "output_type": "stream",
     "text": [
      "tests pass\n"
     ]
    }
   ],
   "source": [
    "def straight(ranks):\n",
    "    \"Return True if the ordered ranks form a 5-card straight.\"\n",
    "    return (max(ranks) - min(ranks) == 4) and len(set(ranks)) == 5\n",
    "\n",
    "def flush(hand):\n",
    "    \"Return True if all the cards have the same suit.\"\n",
    "    suits = [s for r,s in hand]\n",
    "    return len(set(suits)) == 1\n",
    "    \n",
    "def test():\n",
    "    \"Test cases for the functions in poker program.\"\n",
    "    sf = \"6C 7C 8C 9C TC\".split()\n",
    "    fk = \"9D 9H 9S 9C 7D\".split()\n",
    "    fh = \"TD TC TH 7C 7D\".split()\n",
    "    assert straight([9, 8, 7, 6, 5]) == True\n",
    "    assert straight([9, 8, 8, 6, 5]) == False\n",
    "    assert flush(sf) == True\n",
    "    assert flush(fk) == False\n",
    "    return 'tests pass'\n",
    "\n",
    "print(test())"
   ]
  },
  {
   "cell_type": "code",
   "execution_count": 10,
   "metadata": {},
   "outputs": [
    {
     "name": "stdout",
     "output_type": "stream",
     "text": [
      "tests pass\n"
     ]
    }
   ],
   "source": [
    "# -----------\n",
    "# User Instructions\n",
    "# \n",
    "# Define a function, kind(n, ranks).\n",
    "\n",
    "# My solution\n",
    "def kind(n, ranks):\n",
    "    \"\"\"Return the first rank that this hand has exactly n of.\n",
    "    Return None if there is no n-of-a-kind in the hand.\"\"\"\n",
    "    ranks_set = set(ranks)\n",
    "    for r in ranks_set:\n",
    "        if ranks.count(r) == n:\n",
    "            return r\n",
    "    \n",
    "def test():\n",
    "    \"Test cases for the functions in poker program.\"\n",
    "    sf = \"6C 7C 8C 9C TC\".split() # Straight Flush\n",
    "    fk = \"9D 9H 9S 9C 7D\".split() # Four of a Kind\n",
    "    fh = \"TD TC TH 7C 7D\".split() # Full House\n",
    "    tp = \"5S 5D 9H 9C 6S\".split() # Two pairs\n",
    "    fkranks = card_ranks(fk)\n",
    "    tpranks = card_ranks(tp)\n",
    "    assert kind(4, fkranks) == 9\n",
    "    assert kind(3, fkranks) == None\n",
    "    assert kind(2, fkranks) == None\n",
    "    assert kind(1, fkranks) == 7\n",
    "    return 'tests pass'\n",
    "\n",
    "print(test())"
   ]
  },
  {
   "cell_type": "code",
   "execution_count": 12,
   "metadata": {},
   "outputs": [
    {
     "name": "stdout",
     "output_type": "stream",
     "text": [
      "tests pass\n"
     ]
    }
   ],
   "source": [
    "# -----------\n",
    "# User Instructions\n",
    "# \n",
    "# Define a function, kind(n, ranks).\n",
    "\n",
    "def kind(n, ranks):\n",
    "    \"\"\"Return the first rank that this hand has exactly n of.\n",
    "    Return None if there is no n-of-a-kind in the hand.\"\"\"\n",
    "    for r in ranks:\n",
    "        if ranks.count(r) == n: return r\n",
    "    \n",
    "def test():\n",
    "    \"Test cases for the functions in poker program.\"\n",
    "    sf = \"6C 7C 8C 9C TC\".split() # Straight Flush\n",
    "    fk = \"9D 9H 9S 9C 7D\".split() # Four of a Kind\n",
    "    fh = \"TD TC TH 7C 7D\".split() # Full House\n",
    "    tp = \"5S 5D 9H 9C 6S\".split() # Two pairs\n",
    "    fkranks = card_ranks(fk)\n",
    "    tpranks = card_ranks(tp)\n",
    "    assert kind(4, fkranks) == 9\n",
    "    assert kind(3, fkranks) == None\n",
    "    assert kind(2, fkranks) == None\n",
    "    assert kind(1, fkranks) == 7\n",
    "    return 'tests pass'\n",
    "\n",
    "print(test())"
   ]
  },
  {
   "cell_type": "code",
   "execution_count": 32,
   "metadata": {
    "collapsed": true
   },
   "outputs": [],
   "source": [
    "# -----------\n",
    "# User Instructions\n",
    "# \n",
    "# Define a function, two_pair(ranks).\n",
    "\n",
    "def two_pair(ranks):\n",
    "    \"\"\"If there are two pair, return the two ranks as a\n",
    "    tuple: (highest, lowest); otherwise return None.\"\"\"\n",
    "    results = []\n",
    "    for r in ranks:\n",
    "        if ranks.count(r) == 2 and r not in results:\n",
    "            results.append(r)\n",
    "    if len(results) == 2:\n",
    "        results.sort(reverse=True)\n",
    "        # Notice that sort would sort the list in it self\n",
    "        results = tuple(results)\n",
    "        return results"
   ]
  },
  {
   "cell_type": "code",
   "execution_count": 35,
   "metadata": {},
   "outputs": [
    {
     "data": {
      "text/plain": [
       "(5, 2)"
      ]
     },
     "execution_count": 35,
     "metadata": {},
     "output_type": "execute_result"
    }
   ],
   "source": [
    "# Better solution\n",
    "\n",
    "def two_pair(ranks):\n",
    "    pair = kind(2, ranks)\n",
    "    lowpair = kind(2, list(reversed(ranks)))\n",
    "    if pair and lowpair != pair:\n",
    "        return (pair, lowpair)\n",
    "\n",
    "two_pair((5,5,2,2,6))"
   ]
  },
  {
   "cell_type": "markdown",
   "metadata": {},
   "source": [
    "The above code would work perfectly in normal situation. But it would fail to recognize 'A, 2, 3, 4, 5' as one straight. Therefore, we should change the code. \n",
    "Actually due to this is one unique case, we only need to change one case for the situation. "
   ]
  },
  {
   "cell_type": "code",
   "execution_count": 36,
   "metadata": {},
   "outputs": [
    {
     "name": "stdout",
     "output_type": "stream",
     "text": [
      "tests pass\n"
     ]
    }
   ],
   "source": [
    "# User Instructions\n",
    "# \n",
    "# Modify the card_ranks(hand) function so that a \n",
    "# straight with a low ace (A, 2, 3, 4, 5) will be\n",
    "# properly identified as a straight by the \n",
    "# straight() function.\n",
    "\n",
    "def card_ranks(hand):\n",
    "    \"Return a list of the ranks, sorted with higher first.\"\n",
    "    ranks = ['--23456789TJQKA'.index(r) for r, s in hand]\n",
    "    ranks.sort(reverse = True)\n",
    "    if ranks == [14, 5, 4, 3, 2]:\n",
    "        return [5, 4, 3, 2, 1]\n",
    "    return ranks\n",
    "\n",
    "def straight(ranks):\n",
    "    \"Return True if the ordered ranks form a 5-card straight.\"\n",
    "    return (max(ranks)-min(ranks) == 4) and len(set(ranks)) == 5\n",
    "\n",
    "def test():\n",
    "    \"Test cases for the functions in poker program.\"\n",
    "    sf = \"6C 7C 8C 9C TC\".split() # Straight Flush\n",
    "    fk = \"9D 9H 9S 9C 7D\".split() # Four of a Kind\n",
    "    fh = \"TD TC TH 7C 7D\".split() # Full House\n",
    "    al = \"AC 2D 4H 3D 5S\".split() # Ace-Low Straight\n",
    "    assert straight(card_ranks(al)) == True \n",
    "    return 'tests pass'\n",
    "    \n",
    "print(test())"
   ]
  },
  {
   "cell_type": "code",
   "execution_count": 37,
   "metadata": {
    "collapsed": true
   },
   "outputs": [],
   "source": [
    "def card_ranks(hand):\n",
    "    \"Return a list of the ranks, sorted with higher first.\"\n",
    "    ranks = ['--23456789TJQKA'.index(r) for r, s in hand]\n",
    "    ranks.sort(reverse = True)\n",
    "    return [1, 2, 3, 4, 5] if ranks == [2, 3, 4, 5, 14] else ranks"
   ]
  },
  {
   "cell_type": "markdown",
   "metadata": {},
   "source": [
    "For now we still need to handle one issue, which is tie. \n",
    "We have two options, the first one is to change the poker function and the second one is introduce one new function.\n",
    "Among the two solution, change poker would be better, because if we want to play poker, it should solve the problem by itself instead every tiem we introduce the poker function we should also introduce one function to handle tie. "
   ]
  },
  {
   "cell_type": "code",
   "execution_count": 38,
   "metadata": {
    "collapsed": true
   },
   "outputs": [],
   "source": [
    "# -----------\n",
    "# User Instructions\n",
    "# \n",
    "# Write a function, allmax(iterable, key=None), that returns\n",
    "# a list of all items equal to the max of the iterable, \n",
    "# according to the function specified by key. \n",
    "\n",
    "def poker(hands):\n",
    "    \"Return a list of winning hands: poker([hand,...]) => [hand,...]\"\n",
    "    return allmax(hands, key=hand_rank)\n",
    "\n",
    "def allmax(iterable, key=None):\n",
    "    \"Return a list of all items equal to the max of the iterable.\"\n",
    "    result = []\n",
    "    m = key(max(iterable, key=key))\n",
    "    for i in iterable:\n",
    "        if key(i) == m:\n",
    "            result.append(i)\n",
    "    return result"
   ]
  },
  {
   "cell_type": "code",
   "execution_count": 39,
   "metadata": {
    "collapsed": true
   },
   "outputs": [],
   "source": [
    "# Other function\n",
    "\n",
    "def allmax(iterable, key=None):\n",
    "    result, maxval = [], None\n",
    "    key = key or (lambda x: x)\n",
    "    # (lambda x: x will map x to the value x itself)\n",
    "    for x in iterable:\n",
    "        xval = key(x)\n",
    "        if not result or xval>maxval:\n",
    "            result, maxval = [x], xval\n",
    "        elif xval == maxval:\n",
    "            result.append(x)\n",
    "    return result"
   ]
  },
  {
   "cell_type": "markdown",
   "metadata": {},
   "source": [
    "Deal pork"
   ]
  },
  {
   "cell_type": "code",
   "execution_count": 41,
   "metadata": {
    "collapsed": true
   },
   "outputs": [],
   "source": [
    "# -----------\n",
    "# User Instructions\n",
    "# \n",
    "# Write a function, deal(numhands, n=5, deck), that \n",
    "# deals numhands hands with n cards each.\n",
    "#\n",
    "\n",
    "import random # this will be a useful library for shuffling\n",
    "\n",
    "# This builds a deck of 52 cards. If you are unfamiliar\n",
    "# with this notation, check out Andy's supplemental video\n",
    "# on list comprehensions (you can find the link in the \n",
    "# Instructor Comments box below).\n",
    "\n",
    "mydeck = [r+s for r in '23456789TJQKA' for s in 'SHDC'] \n",
    "\n",
    "def deal(numhands, n=5, deck=mydeck):\n",
    "    random.shuffle(deck)\n",
    "    result = []\n",
    "    for i in range(numhands):\n",
    "        result.append(deck[0:n])\n",
    "        deck = deck[n:]\n",
    "    return result"
   ]
  },
  {
   "cell_type": "code",
   "execution_count": 42,
   "metadata": {
    "collapsed": true
   },
   "outputs": [],
   "source": [
    "# other solution\n",
    "\n",
    "mydeck = [r+s for r in '23456789TJQKA' for s in 'SHDC'] \n",
    "\n",
    "def deal(numhands, n=5, deck=mydeck):\n",
    "    random.shuffle(deck)\n",
    "    return [deck[n*i:n(i+1)] for i in range(num)]"
   ]
  },
  {
   "cell_type": "markdown",
   "metadata": {},
   "source": [
    "### Dimensions of Programming\n",
    "In the world of programming, we can imagine it as spaces with multiple axes. The axes includes correct, efficiency, features and elegance. \n",
    "Pay too much attention to elegent could be viewed as doing nothing at all, but actually it is gain your future by help you to easier maintain your program.\n",
    "\n",
    "Also, since there are a lot of axes, as one programer, you should learn to trade off, to understand what you need for now most. "
   ]
  },
  {
   "cell_type": "markdown",
   "metadata": {},
   "source": [
    "### Refactoring\n",
    "Improve elegance of the program without influence other dimensions, try to be 'DRY': 'Dont repeat yourself.'\n",
    "```python\n",
    "elif kind(3, ranks) and kind(2, ranks):\n",
    "    return(6, kind(3, ranks), kind(2, ranks))\n",
    "```\n",
    "This is kindly repeat yourself. To solve it, we can firstly introduce one new function called group, it would group ranks into two tuples, the first one would represent how many times one card appeared and the second tuple would represent cards.\n",
    "For instance\n",
    "`(7,7,7,3,2)` would be grouped into `((3,1,1)(7,3,2))`. \n",
    "Then we can use this function to further refactory. "
   ]
  },
  {
   "cell_type": "code",
   "execution_count": 2,
   "metadata": {
    "collapsed": true
   },
   "outputs": [],
   "source": [
    "def hand_rank(hand):\n",
    "    groups = group(['--23456789TJQKA'.index(r) for r, s in hand])\n",
    "    counts, ranks = unzip(groups)\n",
    "    if ranks == (14, 5, 4, 3, 2, 1):\n",
    "        ranks = (1, 2, 3, 4, 5)\n",
    "    straight = len(ranks) == 5 and max(ranks) - min(ranks) == 4\n",
    "    flush = len(set([s for r, s in hand])) == 1\n",
    "    return (9 if (5,) == counts else\n",
    "           8 if straight and flush else\n",
    "           7 if (4, 1) == counts else\n",
    "           6 if (3, 2) == counts else\n",
    "           5 if flush else\n",
    "           4 if straight else\n",
    "           3 if (3, 1, 1) == counts else\n",
    "           2 if (2, 2, 1) == counts else\n",
    "           1 if (2, 1, 1) == counts else\n",
    "           0), ranks\n",
    "\n",
    "def group(items):\n",
    "    groups = [(items.count(x), x) for x in set(items)]\n",
    "    return sorted(groups, reverse=True)\n",
    "\n",
    "def unzip(pairs):\n",
    "    return zip(*pairs)"
   ]
  },
  {
   "cell_type": "code",
   "execution_count": 3,
   "metadata": {
    "collapsed": true
   },
   "outputs": [],
   "source": [
    "# another solution\n",
    "def hand_rank(hand):\n",
    "    groups = group(['--23456789TJQKA'.index(r) for r, s in hand])\n",
    "    counts, ranks = unzip(groups)\n",
    "    if ranks == (14, 5, 4, 3, 2, 1):\n",
    "        ranks = (1, 2, 3, 4, 5)\n",
    "    straight = len(ranks) == 5 and max(ranks) - min(ranks) == 4\n",
    "    flush = len(set([s for r, s in hand])) == 1\n",
    "    return max(count_ranksings[counts], 4 * straight + 5 * flush), ranks\n",
    "\n",
    "\n",
    "count_rankings = {(5,):10, (4,1):7, (3,2):6, (3,1,1):3, (2,1,1): 2, (2,1,1,1):1, (1,1,1,1,1):0}"
   ]
  },
  {
   "cell_type": "markdown",
   "metadata": {},
   "source": [
    "# Lessons learned\n",
    "When we face problems, we should solve it in following sequences:\n",
    "1. understand\n",
    "2. define pieces of problem ( for this lesson, we should solve it in hands, ranks, and etc)\n",
    "3. reuse the pieces that you have\n",
    "4. test\n",
    "5. explore (dimensions of programming)"
   ]
  },
  {
   "cell_type": "markdown",
   "metadata": {},
   "source": [
    "## Bonus: shuffling"
   ]
  },
  {
   "cell_type": "markdown",
   "metadata": {},
   "source": [
    "### Bad shuffling"
   ]
  },
  {
   "cell_type": "code",
   "execution_count": 7,
   "metadata": {},
   "outputs": [
    {
     "ename": "AttributeError",
     "evalue": "'list' object has no attribute 'values'",
     "output_type": "error",
     "traceback": [
      "\u001b[0;31m---------------------------------------------------------------------------\u001b[0m",
      "\u001b[0;31mAttributeError\u001b[0m                            Traceback (most recent call last)",
      "\u001b[0;32m<ipython-input-7-0e763342854b>\u001b[0m in \u001b[0;36m<module>\u001b[0;34m()\u001b[0m\n\u001b[1;32m     20\u001b[0m \u001b[0;34m\u001b[0m\u001b[0m\n\u001b[1;32m     21\u001b[0m \u001b[0mb\u001b[0m \u001b[0;34m=\u001b[0m \u001b[0mshuffle1\u001b[0m\u001b[0;34m(\u001b[0m\u001b[0;34m[\u001b[0m\u001b[0mi\u001b[0m \u001b[0;32mfor\u001b[0m \u001b[0mi\u001b[0m \u001b[0;32min\u001b[0m \u001b[0mrange\u001b[0m\u001b[0;34m(\u001b[0m\u001b[0;36m1000\u001b[0m\u001b[0;34m)\u001b[0m\u001b[0;34m]\u001b[0m\u001b[0;34m)\u001b[0m\u001b[0;34m\u001b[0m\u001b[0m\n\u001b[0;32m---> 22\u001b[0;31m \u001b[0ma\u001b[0m \u001b[0;34m=\u001b[0m \u001b[0;34m[\u001b[0m\u001b[0mi\u001b[0m \u001b[0;32mfor\u001b[0m \u001b[0mi\u001b[0m \u001b[0;32min\u001b[0m \u001b[0mb\u001b[0m\u001b[0;34m.\u001b[0m\u001b[0mvalues\u001b[0m\u001b[0;34m(\u001b[0m\u001b[0;34m)\u001b[0m\u001b[0;34m]\u001b[0m\u001b[0;34m\u001b[0m\u001b[0m\n\u001b[0m\u001b[1;32m     23\u001b[0m \u001b[0mnarray\u001b[0m \u001b[0;34m=\u001b[0m \u001b[0mnumpy\u001b[0m\u001b[0;34m.\u001b[0m\u001b[0marray\u001b[0m\u001b[0;34m(\u001b[0m\u001b[0ma\u001b[0m\u001b[0;34m)\u001b[0m\u001b[0;34m\u001b[0m\u001b[0m\n\u001b[1;32m     24\u001b[0m \u001b[0msum1\u001b[0m \u001b[0;34m=\u001b[0m \u001b[0mnarray\u001b[0m\u001b[0;34m.\u001b[0m\u001b[0msum\u001b[0m\u001b[0;34m(\u001b[0m\u001b[0;34m)\u001b[0m\u001b[0;34m\u001b[0m\u001b[0m\n",
      "\u001b[0;31mAttributeError\u001b[0m: 'list' object has no attribute 'values'"
     ]
    }
   ],
   "source": [
    "import numpy\n",
    "def swap(deck, i, j):\n",
    "    deck[i], deck[j] = deck[j], deck[i]\n",
    "    \n",
    "    \n",
    "def bad_shuffle(deck):\n",
    "    d = {}\n",
    "    N = len(deck)\n",
    "    for n in range(N):\n",
    "        d[n] = 0\n",
    "    swapped = [False] * N\n",
    "    while not all(swapped):\n",
    "        i, j = random.randrange(N), random.randrange(N)\n",
    "        d[i] += 1\n",
    "        d[j] += 1\n",
    "        swapped[i] = swapped[j] = True\n",
    "        swap(deck, i, j)\n",
    "    return d\n",
    "    # print(d)\n",
    "    \n",
    "b = shuffle1([i for i in range(1000)])\n",
    "a = [i for i in b.values()]\n",
    "narray = numpy.array(a)\n",
    "sum1 = narray.sum()\n",
    "narray2 = narray*narray\n",
    "sum2 = narray2.sum()\n",
    "mean = sum1/1000\n",
    "var = sum2/1000 - mean**2\n",
    "print(var)"
   ]
  },
  {
   "cell_type": "markdown",
   "metadata": {},
   "source": [
    "This one is not so good, one reason is that it is not efficiency. As there is one while loop, as which could means it would take forever to finish the whole process. \n",
    "\n",
    "The other reason is that it is not truely random. We can see that the var in this case is pretty large. "
   ]
  },
  {
   "cell_type": "markdown",
   "metadata": {},
   "source": [
    "### Good shuffle"
   ]
  },
  {
   "cell_type": "code",
   "execution_count": 6,
   "metadata": {},
   "outputs": [],
   "source": [
    "def shuffle1(deck):\n",
    "    N = len(deck)\n",
    "    for i in range(N-1):\n",
    "        swap(deck, i, random.randrange(i, N))\n",
    "    return deck"
   ]
  },
  {
   "cell_type": "markdown",
   "metadata": {},
   "source": [
    "This funciton means for elements in deck, if would iterate everyone and for every element it would give euqal chance for them to be swapped by the remained one.\n",
    "#### Quize\n",
    "What if we change the `for i in range(N-1)` to `for i in range(N)`?\n",
    "\n",
    "\n",
    "The answer is it would still work because when it goes to the last one, it would only have chance to swap with itself. Although it is true the speed would be decreased a little. "
   ]
  },
  {
   "cell_type": "markdown",
   "metadata": {},
   "source": [
    "### Two other functions "
   ]
  },
  {
   "cell_type": "code",
   "execution_count": 3,
   "metadata": {},
   "outputs": [],
   "source": [
    "def shuffle2(deck):\n",
    "    N = len(deck)\n",
    "    swapped = [False] * N\n",
    "    while not all(swapped):\n",
    "        i, j = random.randrange(N), random.randrange(N)\n",
    "        swapped[i] = True\n",
    "        swap(deck, i, j)\n",
    "    return deck\n",
    "\n",
    "def shuffle3(deck):\n",
    "    N = len(deck)\n",
    "    for i in range(N):\n",
    "        swap(deck, i, random.randrange(N))\n",
    "    return deck"
   ]
  },
  {
   "cell_type": "code",
   "execution_count": 8,
   "metadata": {
    "collapsed": true
   },
   "outputs": [],
   "source": [
    "def test(shuffler, deck='abc', n =10000):\n",
    "    d = defaultdict(int)\n",
    "    for i in range(n):\n",
    "        # print('this is {}'.format(i))\n",
    "        input = list(deck)\n",
    "        nn = shuffler(input)\n",
    "        d[''.join(nn)] += 1\n",
    "    e = n*1./factorial(len(deck))\n",
    "    ok = all((0.9 <= d[item]/e <= 1.1) for item in d)\n",
    "    return ok"
   ]
  },
  {
   "cell_type": "code",
   "execution_count": 10,
   "metadata": {},
   "outputs": [
    {
     "name": "stdout",
     "output_type": "stream",
     "text": [
      "True\n",
      "True\n",
      "False\n"
     ]
    }
   ],
   "source": [
    "print(test(shuffle1))\n",
    "print(test(shuffle2))\n",
    "print(test(shuffle3))"
   ]
  },
  {
   "cell_type": "markdown",
   "metadata": {},
   "source": [
    "### Computing and doing\n",
    "\n",
    "There are two kinds of functions (or just one, the other one is subroutine). \n",
    "The first kind is computing, it would return one result without change the input.\n",
    "The other one is called doing. It would not return any thing but change the input. "
   ]
  }
 ],
 "metadata": {
  "kernelspec": {
   "display_name": "Python 3",
   "language": "python",
   "name": "python3"
  },
  "language_info": {
   "codemirror_mode": {
    "name": "ipython",
    "version": 3
   },
   "file_extension": ".py",
   "mimetype": "text/x-python",
   "name": "python",
   "nbconvert_exporter": "python",
   "pygments_lexer": "ipython3",
   "version": "3.5.2"
  }
 },
 "nbformat": 4,
 "nbformat_minor": 2
}
